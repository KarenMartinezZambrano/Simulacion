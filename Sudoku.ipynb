{
 "cells": [
  {
   "cell_type": "code",
   "execution_count": null,
   "metadata": {},
   "outputs": [],
   "source": [
    "SuperMatriz= [[0,0,8,0,1,0,0,0,9],\n",
    "              [6,0,1,0,9,0,3,2,1],\n",
    "              [0,4,0,0,3,7,0,0,5],\n",
    "              [0,3,5,0,0,8,2,0,0],\n",
    "              [0,0,2,6,5,0,8,0,0],\n",
    "              [0,0,4,0,0,1,7,5,0],\n",
    "              [5,0,0,3,4,0,0,8,0],\n",
    "              [0,9,7,0,8,0,5,0,6],\n",
    "              [1,0,0,0,6,0,9,0,0]];\n",
    "\n",
    "for i in range (0,9):\n",
    "    Cadena=\"\";\n",
    "    for j in range (0,9):\n",
    "        Cadena+=str(SuperMatriz[i][j]);\n",
    "    print Cadena;"
   ]
  },
  {
   "cell_type": "code",
   "execution_count": null,
   "metadata": {},
   "outputs": [],
   "source": [
    "fila =input (\"Digite el numero de la fila de 0 a 8 -->\");\n",
    "columna= input (\"Digite el numero de la columna de 0 a 8 -->\");\n",
    "valor= input (\"Digite el numero de 1 a 9 -->\");\n",
    "\n",
    "valido=True;\n",
    "for i in range (0,9):\n",
    "    if SuperMatriz[fila][i]== valor:\n",
    "        print (\"No puede seleccionar este numero, ya existe en la fila!\");\n",
    "        valido=False;\n",
    "for i in range (0,9):\n",
    "    if SuperMatriz[i][columna]== valor:\n",
    "        print (\"No puede seleccionar este numero, ya existe en la columna!\");\n",
    "        valido=False;\n",
    "for i in range((fila/3)*3,(fila/3)*3+3):\n",
    "    for j in range((columna/3)*3,(columna/3)*3+3):\n",
    "        if SuperMatriz[i][j]== valor:\n",
    "            print (\"No puede seleccionar este numero, ya existe en el cuadro!\");\n",
    "            valido=False;\n",
    "if valido:\n",
    "    SuperMatriz[fila][columna]= valor;\n",
    "            \n",
    "for i in range (0,9):\n",
    "    Cadena=\"\";\n",
    "    for j in range (0,9):\n",
    "        Cadena+=str(SuperMatriz[i][j]);\n",
    "    print Cadena;"
   ]
  }
 ],
 "metadata": {
  "kernelspec": {
   "display_name": "Python 2",
   "language": "python",
   "name": "python2"
  },
  "language_info": {
   "codemirror_mode": {
    "name": "ipython",
    "version": 2
   },
   "file_extension": ".py",
   "mimetype": "text/x-python",
   "name": "python",
   "nbconvert_exporter": "python",
   "pygments_lexer": "ipython2",
   "version": "2.7.15"
  }
 },
 "nbformat": 4,
 "nbformat_minor": 2
}
